{
 "cells": [
  {
   "cell_type": "markdown",
   "id": "c728ca93",
   "metadata": {},
   "source": [
    "# Training and test data"
   ]
  },
  {
   "cell_type": "code",
   "execution_count": 1,
   "id": "b2eef512",
   "metadata": {},
   "outputs": [],
   "source": [
    "import h5py as h5\n",
    "import numpy as np\n",
    "import matplotlib.pyplot as plt\n",
    "import ATTPC_Classifier as anna\n",
    "import plotlearning as pl"
   ]
  },
  {
   "cell_type": "code",
   "execution_count": 2,
   "id": "e6aa9568",
   "metadata": {},
   "outputs": [
    {
     "name": "stdout",
     "output_type": "stream",
     "text": [
      "<KeysViewHDF5 ['imgs', 'targets']>\n",
      "(20000, 128, 128)\n",
      "(20000,)\n"
     ]
    }
   ],
   "source": [
    "imgs = h5.File('CombinedTwoThree', 'r')\n",
    "print(imgs.keys())\n",
    "evts = imgs['imgs']\n",
    "print(evts.shape)\n",
    "track = imgs['targets'] #will be used to slice test_targets\n",
    "print(track.shape)"
   ]
  },
  {
   "cell_type": "code",
   "execution_count": 3,
   "id": "6d344a68",
   "metadata": {},
   "outputs": [],
   "source": [
    "#range of images that will be used in test and training\n",
    "test_events = evts[:5000]\n",
    "test_targets = track[:5000]\n",
    "train_events = evts[5000:]\n",
    "train_targets = track[5000:]"
   ]
  },
  {
   "cell_type": "code",
   "execution_count": 4,
   "id": "e4cd4f58",
   "metadata": {},
   "outputs": [],
   "source": [
    "#normalizing the data\n",
    "test_events = (test_events - 127.5) / 127.5\n",
    "#test_targets = (test_targets - 127.5) / 127.5\n",
    "train_events = (train_events - 127.5) / 127.5\n",
    "#train_targets = (train_targets - 127.5) / 127.5"
   ]
  },
  {
   "cell_type": "code",
   "execution_count": 5,
   "id": "bef28229",
   "metadata": {},
   "outputs": [
    {
     "name": "stdout",
     "output_type": "stream",
     "text": [
      "Training data shape: (15000, 128, 128, 3)\n",
      "Test data shape: (5000, 128, 128, 3)\n",
      "Training data shape: (15000,)\n",
      "Test data shape: (5000,)\n"
     ]
    }
   ],
   "source": [
    "#this will make these 2d images 3d by addign an extra dimension\n",
    "test_events = np.expand_dims(test_events, axis=3)\n",
    "test_events = np.repeat(test_events, 3, axis=3)\n",
    "\n",
    "#test_targets = np.expand_dims(test_targets, axis=3)\n",
    "\n",
    "train_events = np.expand_dims(train_events, axis=3)\n",
    "train_events = np.repeat(train_events, 3, axis=3)\n",
    "                         \n",
    "#train_targets = np.expand_dims(train_targets, axis=3)\n",
    "\n",
    "print('Training data shape: {}'.format(train_events.shape))\n",
    "print('Test data shape: {}'.format(test_events.shape))\n",
    "print('Training data shape: {}'.format(train_targets.shape))\n",
    "print('Test data shape: {}'.format(test_targets.shape))"
   ]
  },
  {
   "cell_type": "code",
   "execution_count": null,
   "id": "4ce83f16",
   "metadata": {},
   "outputs": [],
   "source": []
  }
 ],
 "metadata": {
  "kernelspec": {
   "display_name": "Python 3",
   "language": "python",
   "name": "python3"
  },
  "language_info": {
   "codemirror_mode": {
    "name": "ipython",
    "version": 3
   },
   "file_extension": ".py",
   "mimetype": "text/x-python",
   "name": "python",
   "nbconvert_exporter": "python",
   "pygments_lexer": "ipython3",
   "version": "3.6.10"
  }
 },
 "nbformat": 4,
 "nbformat_minor": 5
}
