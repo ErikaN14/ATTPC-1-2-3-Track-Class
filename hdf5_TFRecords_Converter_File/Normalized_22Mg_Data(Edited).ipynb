{
 "cells": [
  {
   "cell_type": "code",
   "execution_count": 2,
   "id": "1bcaf7ce",
   "metadata": {},
   "outputs": [],
   "source": [
    "import random\n",
    "import h5py as h5\n",
    "import numpy as np\n",
    "import tqdm\n",
    "import matplotlib.pyplot as plt\n",
    "from mpl_toolkits import mplot3d"
   ]
  },
  {
   "cell_type": "code",
   "execution_count": 3,
   "id": "4e052c38",
   "metadata": {},
   "outputs": [],
   "source": [
    "file = h5.File('output_digi_HDF_Mg22_Ne20pp_8MeV.h5', 'r')\n",
    "#print(file[\"Event_[3]\"][:][:])"
   ]
  },
  {
   "cell_type": "code",
   "execution_count": 4,
   "id": "c5b8d534",
   "metadata": {},
   "outputs": [],
   "source": [
    "sample_size = 128\n",
    "keys = list(file.keys())\n",
    "length = len(keys)"
   ]
  },
  {
   "cell_type": "code",
   "execution_count": 5,
   "id": "c1f2ab74",
   "metadata": {},
   "outputs": [],
   "source": [
    "event_lens = np.zeros(length,int)\n",
    "for i in range (length):\n",
    "    event = keys[i]\n",
    "    event_lens[i] = len(file[event]) "
   ]
  },
  {
   "cell_type": "code",
   "execution_count": 6,
   "id": "9b897538",
   "metadata": {},
   "outputs": [
    {
     "name": "stderr",
     "output_type": "stream",
     "text": [
      "100%|██████████| 10000/10000 [10:36<00:00, 15.71it/s]\n"
     ]
    }
   ],
   "source": [
    "event_data = np.zeros((length, np.max(event_lens), 12), float)\n",
    "for n in tqdm.tqdm(range(len(keys))):\n",
    "    name = keys[n]\n",
    "    event = file[name]\n",
    "    ev_len = len(event)\n",
    "    #converting event into an array\n",
    "    for i,e in enumerate(event):\n",
    "        instant = np.array(list(e))\n",
    "        event_data[n][i][:] = np.array(instant)    \n",
    "np.save('Mg22_Ne20pp', event_data)"
   ]
  },
  {
   "cell_type": "code",
   "execution_count": 7,
   "id": "2e6b8df4",
   "metadata": {},
   "outputs": [
    {
     "name": "stderr",
     "output_type": "stream",
     "text": [
      "100%|██████████| 10000/10000 [00:06<00:00, 1437.81it/s]\n"
     ]
    }
   ],
   "source": [
    "data = np.load('Mg22_Ne20pp.npy')\n",
    "file_name = 'Mg22_size_' + str(sample_size) + '.h5'\n",
    "new = h5.File(file_name, 'w')\n",
    "for n in tqdm.tqdm(range(length)):\n",
    "    name = keys[n]\n",
    "    ev_lens = event_lens[n]\n",
    "    new_event = np.zeros((sample_size, 13), float)\n",
    "\n",
    "    #making new array for normalized event\n",
    "    if ev_lens == sample_size:\n",
    "        new_event[:,:-1] = data[n,:ev_lens,:]\n",
    "    else: \n",
    "        for i in range(sample_size):\n",
    "            row = random.randint(0, ev_lens - 1)\n",
    "            new_event[i,:-1] = data[n,row,:] \n",
    "    unique_targets = np.unique(data[n,:ev_lens,5]) #get total number of tracks in each event \n",
    "    new_event[0,-1]= unique_targets.size - 1 #append track id to end of first instance in event\n",
    "    \n",
    "    new.create_dataset(name, data = new_event)"
   ]
  },
  {
   "cell_type": "code",
   "execution_count": 8,
   "id": "22a78035",
   "metadata": {},
   "outputs": [
    {
     "name": "stderr",
     "output_type": "stream",
     "text": [
      "100%|██████████| 10000/10000 [00:08<00:00, 1206.15it/s]\n"
     ]
    }
   ],
   "source": [
    "#NOT completely random sampling!\n",
    "data = np.load('Mg22_Ne20pp.npy')\n",
    "file_name = 'Mg22_size' + str(sample_size) + '.h5'\n",
    "new = h5.File(file_name, 'w')\n",
    "for i in tqdm.tqdm(range(length)):\n",
    "    ev_len = event_lens[i]    #length of event-- i.e. number of instances\n",
    "    particle_ids = data[i,:event_lens[i],5]\n",
    "    label, distr = np.unique(particle_ids, return_counts=True)\n",
    "    shortest = label[np.argmin(distr)]\n",
    "    shortest_ind = np.argwhere(particle_ids == shortest)\n",
    "    new_event = np.zeros((sample_size, 13), float)    #empty array for sampled event data\n",
    "    if ev_len == sample_size:    #if array is already preferred length\n",
    "        new_event[:,:-1] = data[i,:ev_len,:]\n",
    "    else:\n",
    "        for n in range(sample_size):    #the first instances sampled will be those belonging to the shortest track\n",
    "            if n < shortest.size:\n",
    "                new_event[n,:-1] = data[i,shortest_ind[n],:]\n",
    "            else:\n",
    "                row = random.randint(0, ev_len - 1)\n",
    "                new_event[n,:-1] = data[i,row,:]\n",
    "    unique_point_ids = np.unique(data[i,:ev_len,5])    #array of unique particle IDs\n",
    "    new_event[0,-1] = unique_point_ids.size - 1    #number of unique particles, scaled to start at 0\n",
    "    new.create_dataset(keys[i], data = new_event)    #creating new dataset within the h5 file for the event"
   ]
  },
  {
   "cell_type": "code",
   "execution_count": 9,
   "id": "a799bc6c",
   "metadata": {},
   "outputs": [
    {
     "name": "stdout",
     "output_type": "stream",
     "text": [
      "(2.45410442, 9.95206547, 504., 195, 5.83169867, 4, 5, 0., 1.62471315e-05, 0., 1, 1)\n"
     ]
    }
   ],
   "source": [
    "print(event[60])\n",
    "# sixth number is particle id"
   ]
  },
  {
   "cell_type": "code",
   "execution_count": 10,
   "id": "c642db76",
   "metadata": {},
   "outputs": [
    {
     "name": "stderr",
     "output_type": "stream",
     "text": [
      "100%|██████████| 10000/10000 [00:09<00:00, 1110.50it/s]\n"
     ]
    }
   ],
   "source": [
    "#creating data sets with fewer beam events and no 2, 5, or 6 track events\n",
    "name = 'Mg22_size128'\n",
    "data = h5.File(name + '.h5', 'r')\n",
    "keys = list(data.keys())\n",
    "length = len(keys)\n",
    "new = h5.File(name + '_edited.h5', 'w')\n",
    "for i in tqdm.tqdm(range(length)):\n",
    "    event = data[keys[i]]\n",
    "    unique_point_ids = np.unique(data[keys[i]][:event_lens[i],5])    #array of unique particle IDs\n",
    "    new_event[0,-1] = unique_point_ids.size - 1 \n",
    "    num_tracks = new_event[0,-1]\n",
    "    #omitting the latter half of beam events along with 2, 5, and 6 track events\n",
    "    if (num_tracks == 0 and i > 5000) or num_tracks == 1 or num_tracks == 4 or num_tracks == 5:\n",
    "        continue\n",
    "    else:\n",
    "        new.create_dataset(keys[i], data = event)"
   ]
  },
  {
   "cell_type": "code",
   "execution_count": 11,
   "id": "04113d4a",
   "metadata": {},
   "outputs": [
    {
     "name": "stdout",
     "output_type": "stream",
     "text": [
      "[5002  104 2554 2319   16    5]\n"
     ]
    }
   ],
   "source": [
    "#checking the range of number of tracks and the distribution in the original data\n",
    "data = np.load('Mg22_Ne20pp.npy')\n",
    "num_tracks = np.zeros(len(keys),int)\n",
    "for i in range(data.shape[0]):\n",
    "    unique_point_ids = np.unique(data[i,:event_lens[i],5])    #array of unqiue particles IDs\n",
    "    num_tracks[i] = unique_point_ids.size - 1\n",
    "label, og_distr = np.unique(num_tracks, return_counts=True)\n",
    "print(og_distr)"
   ]
  },
  {
   "cell_type": "code",
   "execution_count": 12,
   "id": "17c1cfc9",
   "metadata": {},
   "outputs": [
    {
     "name": "stdout",
     "output_type": "stream",
     "text": [
      "[2503 2550 2308]\n"
     ]
    },
    {
     "ename": "ValueError",
     "evalue": "operands could not be broadcast together with shapes (3,) (6,) ",
     "output_type": "error",
     "traceback": [
      "\u001b[0;31m---------------------------------------------------------------------------\u001b[0m",
      "\u001b[0;31mValueError\u001b[0m                                Traceback (most recent call last)",
      "\u001b[0;32m<ipython-input-12-cc5f7c1d281a>\u001b[0m in \u001b[0;36m<module>\u001b[0;34m\u001b[0m\n\u001b[1;32m      9\u001b[0m \u001b[0mlabel\u001b[0m\u001b[0;34m,\u001b[0m \u001b[0mnew_distr\u001b[0m \u001b[0;34m=\u001b[0m \u001b[0mnp\u001b[0m\u001b[0;34m.\u001b[0m\u001b[0munique\u001b[0m\u001b[0;34m(\u001b[0m\u001b[0mnum_tracks\u001b[0m\u001b[0;34m,\u001b[0m \u001b[0mreturn_counts\u001b[0m\u001b[0;34m=\u001b[0m\u001b[0;32mTrue\u001b[0m\u001b[0;34m)\u001b[0m\u001b[0;34m\u001b[0m\u001b[0;34m\u001b[0m\u001b[0m\n\u001b[1;32m     10\u001b[0m \u001b[0mprint\u001b[0m\u001b[0;34m(\u001b[0m\u001b[0mnew_distr\u001b[0m\u001b[0;34m)\u001b[0m\u001b[0;34m\u001b[0m\u001b[0;34m\u001b[0m\u001b[0m\n\u001b[0;32m---> 11\u001b[0;31m \u001b[0mprint\u001b[0m\u001b[0;34m(\u001b[0m\u001b[0mnp\u001b[0m\u001b[0;34m.\u001b[0m\u001b[0msum\u001b[0m\u001b[0;34m(\u001b[0m\u001b[0mnp\u001b[0m\u001b[0;34m.\u001b[0m\u001b[0mabs\u001b[0m\u001b[0;34m(\u001b[0m\u001b[0mnew_distr\u001b[0m \u001b[0;34m-\u001b[0m \u001b[0mog_distr\u001b[0m\u001b[0;34m)\u001b[0m\u001b[0;34m)\u001b[0m\u001b[0;34m//\u001b[0m\u001b[0;36m2\u001b[0m\u001b[0;34m)\u001b[0m\u001b[0;34m\u001b[0m\u001b[0;34m\u001b[0m\u001b[0m\n\u001b[0m",
      "\u001b[0;31mValueError\u001b[0m: operands could not be broadcast together with shapes (3,) (6,) "
     ]
    }
   ],
   "source": [
    "#cheking the number of tracks and distribution in the processed data\n",
    "data = h5.File('Mg22_size128_edited.h5', 'r')\n",
    "keys = list(data.keys())\n",
    "num_tracks = np.zeros(len(keys),int)\n",
    "for i in range(len(keys)):\n",
    "    event = data[keys[i]]\n",
    "    unique_point_ids = np.unique(event[:,5])    #array of unqiue particles IDs\n",
    "    num_tracks[i] = unique_point_ids.size - 1\n",
    "label, new_distr = np.unique(num_tracks, return_counts=True)\n",
    "print(new_distr)\n",
    "print(np.sum(np.abs(new_distr - og_distr))//2)"
   ]
  },
  {
   "cell_type": "code",
   "execution_count": 13,
   "id": "1c5d2232",
   "metadata": {},
   "outputs": [
    {
     "name": "stderr",
     "output_type": "stream",
     "text": [
      "100%|██████████| 10000/10000 [00:09<00:00, 1073.87it/s]\n"
     ]
    }
   ],
   "source": [
    "#setting aside a test set from the all events dataset\n",
    "name = 'Mg22_size' + str(sample_size)\n",
    "whole = h5.File(name + '.h5','r')\n",
    "test = h5.File(name + '_test.h5', 'w')\n",
    "rest = h5.File(name + '_rest.h5', 'w')\n",
    "keys = list(whole.keys())\n",
    "length = len(keys)\n",
    "test_len = int(0.2*length)\n",
    "test_set_indices = np.random.choice(range(length), test_len, replace=False)\n",
    "for i in tqdm.tqdm(range(length)):\n",
    "    event = whole[keys[i]]\n",
    "    if np.isin(i, test_set_indices, assume_unique=True):\n",
    "        test.create_dataset(keys[i], data = event)\n",
    "    else:\n",
    "        rest.create_dataset(keys[i], data = event)"
   ]
  },
  {
   "cell_type": "code",
   "execution_count": 14,
   "id": "c05fb445",
   "metadata": {},
   "outputs": [
    {
     "name": "stderr",
     "output_type": "stream",
     "text": [
      "100%|██████████| 8000/8000 [00:07<00:00, 1057.41it/s]\n"
     ]
    }
   ],
   "source": [
    "#splits remaining events data into training and validation sets\n",
    "name = 'Mg22_size' + str(sample_size)\n",
    "whole = h5.File(name + '_rest.h5','r')\n",
    "train = h5.File(name + '_train.h5', 'w')\n",
    "val = h5.File(name + '_val.h5', 'w')\n",
    "keys = list(whole.keys())\n",
    "length = len(keys)\n",
    "val_len = int(0.25*length)     #20% of 80%\n",
    "val_set_indices = np.random.choice(range(length), val_len, replace=False)\n",
    "for i in tqdm.tqdm(range(length)):\n",
    "    event = whole[keys[i]]\n",
    "    if np.isin(i, val_set_indices, assume_unique=True):\n",
    "        val.create_dataset(keys[i], data = event)\n",
    "    else:\n",
    "        train.create_dataset(keys[i], data = event)"
   ]
  },
  {
   "cell_type": "code",
   "execution_count": 3,
   "id": "a105ebab",
   "metadata": {},
   "outputs": [
    {
     "name": "stdout",
     "output_type": "stream",
     "text": [
      "[-7.36236525e+00 -1.45075214e+00  8.75200000e+02  3.11000000e+02\n",
      "  2.39268389e+02  0.00000000e+00  3.00000000e+00  0.00000000e+00\n",
      "  1.53025219e-04  0.00000000e+00  2.20000000e+01  1.20000000e+01\n",
      "  0.00000000e+00]\n"
     ]
    }
   ],
   "source": [
    "files = h5.File('Mg22_size128_train.h5', 'r')\n",
    "keys = list(files.keys())\n",
    "print(files[keys[1]][1])"
   ]
  },
  {
   "cell_type": "code",
   "execution_count": null,
   "id": "8d45528e-b67b-427f-9637-57e13da7bd6a",
   "metadata": {},
   "outputs": [],
   "source": []
  }
 ],
 "metadata": {
  "kernelspec": {
   "display_name": "Python 3",
   "language": "python",
   "name": "python3"
  },
  "language_info": {
   "codemirror_mode": {
    "name": "ipython",
    "version": 3
   },
   "file_extension": ".py",
   "mimetype": "text/x-python",
   "name": "python",
   "nbconvert_exporter": "python",
   "pygments_lexer": "ipython3",
   "version": "3.8.10"
  }
 },
 "nbformat": 4,
 "nbformat_minor": 5
}
